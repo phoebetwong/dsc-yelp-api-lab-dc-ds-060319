{
 "cells": [
  {
   "cell_type": "markdown",
   "metadata": {},
   "source": [
    "# Yelp API - Lab\n",
    "\n",
    "\n",
    "## Introduction \n",
    "\n",
    "Now that we've seen how the Yelp API works and some basic Folium visualizations, it's time to put those skills to work in order to create a working map! Taking things a step further, you'll also independently explore how to perform pagination in order to retrieve a full results set from the Yelp API!\n",
    "\n",
    "## Objectives\n",
    "\n",
    "You will be able to: \n",
    "* Create HTTP requests to get data from Yelp API\n",
    "* Parse HTTP responses and perform data analysis on the data returned\n",
    "* Perform pagination to retrieve troves of data!\n",
    "* Create a simple geographical system on to view information about selected businesses, at a given location. \n",
    "\n",
    "## Problem Introduction\n",
    "\n",
    "You've now worked with some API calls, but we have yet to see how to retrieve a more complete dataset in a programmatic manner. Returning to the Yelp API, the [documentation](https://www.yelp.com/developers/documentation/v3/business_search) also provides us details regarding the API limits. These often include details about the number of requests a user is allowed to make within a specified time limit and the maximum number of results to be returned. In this case, we are told that any request has a maximum of 50 results per request and defaults to 20. Furthermore, any search will be limited to a total of 1000 results. To retrieve all 1000 of these results, we would have to page through the results piece by piece, retrieving 50 at a time. Processes such as these are often referred to as pagination.\n",
    "\n",
    "In this lab, you will define a search and then paginate over the results to retrieve all of the results. You'll then parse these responses as a DataFrame (for further exploration) and create a map using Folium to visualize the results geographically.\n",
    "\n",
    "## Part I - Make the Initial Request\n",
    "\n",
    "Start by making an initial request to the Yelp API. Your search must include at least 2 parameters: **term** and **location**. For example, you might search for pizza restaurants in NYC. The term and location is up to you, but make the request below."
   ]
  },
  {
   "cell_type": "code",
   "execution_count": 1,
   "metadata": {},
   "outputs": [],
   "source": [
    "#Your code here\n",
    "import requests\n",
    "\n",
    "api_key = 'kgoJJSAWzGzX8i0xKVNSCTgkpWtE8LiGOCKZ4fLOVAHB3K2mxwwuES8x3VCZ0oyY04MlfWD4s82MwPHU18JNnPDks6WuJb3nFn8kixM5_1Ure6glVbbx-_prAPgQXXYx'#put your api key (as a string) here\n",
    "url = 'https://api.yelp.com/v3/businesses/search'\n",
    "headers = {'Authorization': 'Bearer {}'.format(api_key),}\n",
    "url_params = {'location': \"NYC\", 'term': 'pizza'}\n",
    "\n",
    "response = requests.get(url, headers=headers, params = url_params)\n"
   ]
  },
  {
   "cell_type": "code",
   "execution_count": 2,
   "metadata": {},
   "outputs": [
    {
     "data": {
      "text/plain": [
       "b'{\"businesses\": [{\"id\": \"ysqgdbSrezXgVwER2kQWKA\", \"alias\": \"julianas-pizza-brooklyn-5\", \"name\": \"Juliana\\'s Pizza\", \"image_url\": \"https://s3-media1.fl.yelpcdn.com/bphoto/7JtwTxhWHf3YS70Ss_CfxA/o.jpg\", \"is_closed\": false, \"url\": \"https://www.yelp.com/biz/julianas-pizza-brooklyn-5?adjust_creative=ih1nQ2GnSmI0pQMGcg_D0g&utm_campaign=yelp_api_v3&utm_medium=api_v3_business_search&utm_source=ih1nQ2GnSmI0pQMGcg_D0g\", \"review_count\": 1992, \"categories\": [{\"alias\": \"pizza\", \"title\": \"Pizza\"}], \"rating\": 4.5, \"coordinates\": {\"latitude\": 40.7026153030093, \"longitude\": -73.9934159993549}, \"transactions\": [], \"price\": \"$$\", \"location\": {\"address1\": \"19 Old Fulton St\", \"address2\": \"\", \"address3\": \"\", \"city\": \"Brooklyn\", \"zip_code\": \"11201\", \"country\": \"US\", \"state\": \"NY\", \"display_address\": [\"19 Old Fulton St\", \"Brooklyn, NY 11201\"]}, \"phone\": \"+17185966700\", \"display_phone\": \"(718) 596-6700\", \"distance\": 323.20506308227306}, {\"id\": \"zj8Lq1T8KIC5zwFief15jg\", \"alias\": \"prince-street-pizza-new-york-2\", \"name\": \"Prince Street Pizza\", \"image_url\": \"https://s3-media3.fl.yelpcdn.com/bphoto/ZAukOyv530w4KjOHC5YY1w/o.jpg\", \"is_closed\": false, \"url\": \"https://www.yelp.com/biz/prince-street-pizza-new-york-2?adjust_creative=ih1nQ2GnSmI0pQMGcg_D0g&utm_campaign=yelp_api_v3&utm_medium=api_v3_business_search&utm_source=ih1nQ2GnSmI0pQMGcg_D0g\", \"review_count\": 2876, \"categories\": [{\"alias\": \"pizza\", \"title\": \"Pizza\"}, {\"alias\": \"italian\", \"title\": \"Italian\"}], \"rating\": 4.5, \"coordinates\": {\"latitude\": 40.7229087705545, \"longitude\": -73.9944863319397}, \"transactions\": [\"pickup\", \"delivery\"], \"price\": \"$\", \"location\": {\"address1\": \"27 Prince St\", \"address2\": null, \"address3\": \"\", \"city\": \"New York\", \"zip_code\": \"10012\", \"country\": \"US\", \"state\": \"NY\", \"display_address\": [\"27 Prince St\", \"New York, NY 10012\"]}, \"phone\": \"+12129664100\", \"display_phone\": \"(212) 966-4100\", \"distance\": 1941.9638172538225}, {\"id\": \"WIhm0W9197f_rRtDziq5qQ\", \"alias\": \"lombardis-pizza-new-york-4\", \"name\": \"Lombardi\\'s Pizza\", \"image_url\": \"https://s3-media1.fl.yelpcdn.com/bphoto/UZ6V_hobp1KpYDPOHNoCKw/o.jpg\", \"is_closed\": false, \"url\": \"https://www.yelp.com/biz/lombardis-pizza-new-york-4?adjust_creative=ih1nQ2GnSmI0pQMGcg_D0g&utm_campaign=yelp_api_v3&utm_medium=api_v3_business_search&utm_source=ih1nQ2GnSmI0pQMGcg_D0g\", \"review_count\": 5875, \"categories\": [{\"alias\": \"pizza\", \"title\": \"Pizza\"}], \"rating\": 4.0, \"coordinates\": {\"latitude\": 40.7215934960083, \"longitude\": -73.9955956044561}, \"transactions\": [\"pickup\", \"delivery\"], \"price\": \"$$\", \"location\": {\"address1\": \"32 Spring St\", \"address2\": \"\", \"address3\": \"\", \"city\": \"New York\", \"zip_code\": \"10012\", \"country\": \"US\", \"state\": \"NY\", \"display_address\": [\"32 Spring St\", \"New York, NY 10012\"]}, \"phone\": \"+12129417994\", \"display_phone\": \"(212) 941-7994\", \"distance\": 1798.9959778083735}, {\"id\": \"v1DHGRNCH9247WLYoaoA9A\", \"alias\": \"l-industrie-pizzeria-brooklyn\", \"name\": \"L\\'industrie Pizzeria\", \"image_url\": \"https://s3-media2.fl.yelpcdn.com/bphoto/SRL_RztRRUijgQwt67daGw/o.jpg\", \"is_closed\": false, \"url\": \"https://www.yelp.com/biz/l-industrie-pizzeria-brooklyn?adjust_creative=ih1nQ2GnSmI0pQMGcg_D0g&utm_campaign=yelp_api_v3&utm_medium=api_v3_business_search&utm_source=ih1nQ2GnSmI0pQMGcg_D0g\", \"review_count\": 436, \"categories\": [{\"alias\": \"pizza\", \"title\": \"Pizza\"}], \"rating\": 5.0, \"coordinates\": {\"latitude\": 40.71162, \"longitude\": -73.95783}, \"transactions\": [\"pickup\", \"delivery\"], \"price\": \"$\", \"location\": {\"address1\": \"254 S 2nd St\", \"address2\": \"\", \"address3\": \"\", \"city\": \"Brooklyn\", \"zip_code\": \"11211\", \"country\": \"US\", \"state\": \"NY\", \"display_address\": [\"254 S 2nd St\", \"Brooklyn, NY 11211\"]}, \"phone\": \"+17185990002\", \"display_phone\": \"(718) 599-0002\", \"distance\": 3145.016041338447}, {\"id\": \"nUpA3sY5b6dynC7aj0eV6A\", \"alias\": \"rizzos-fine-pizza-new-york-4\", \"name\": \"Rizzo\\'s Fine Pizza\", \"image_url\": \"https://s3-media1.fl.yelpcdn.com/bphoto/dnLj-NVZx4TUp608hDVBvw/o.jpg\", \"is_closed\": false, \"url\": \"https://www.yelp.com/biz/rizzos-fine-pizza-new-york-4?adjust_creative=ih1nQ2GnSmI0pQMGcg_D0g&utm_campaign=yelp_api_v3&utm_medium=api_v3_business_search&utm_source=ih1nQ2GnSmI0pQMGcg_D0g\", \"review_count\": 695, \"categories\": [{\"alias\": \"pizza\", \"title\": \"Pizza\"}, {\"alias\": \"wine_bars\", \"title\": \"Wine Bars\"}, {\"alias\": \"beerbar\", \"title\": \"Beer Bar\"}], \"rating\": 4.5, \"coordinates\": {\"latitude\": 40.720852, \"longitude\": -73.984456}, \"transactions\": [\"restaurant_reservation\", \"pickup\", \"delivery\"], \"price\": \"$$\", \"location\": {\"address1\": \"17 Clinton St\", \"address2\": \"\", \"address3\": \"\", \"city\": \"New York\", \"zip_code\": \"10002\", \"country\": \"US\", \"state\": \"NY\", \"display_address\": [\"17 Clinton St\", \"New York, NY 10002\"]}, \"phone\": \"+16464541262\", \"display_phone\": \"(646) 454-1262\", \"distance\": 1903.2788345091096}, {\"id\": \"2ggi1luerd3Mf_C82JvCYg\", \"alias\": \"grimaldis-pizzeria-brooklyn-4\", \"name\": \"Grimaldi\\'s Pizzeria\", \"image_url\": \"https://s3-media2.fl.yelpcdn.com/bphoto/TNKqW31PTvtSw6-Lbc1mtA/o.jpg\", \"is_closed\": false, \"url\": \"https://www.yelp.com/biz/grimaldis-pizzeria-brooklyn-4?adjust_creative=ih1nQ2GnSmI0pQMGcg_D0g&utm_campaign=yelp_api_v3&utm_medium=api_v3_business_search&utm_source=ih1nQ2GnSmI0pQMGcg_D0g\", \"review_count\": 4506, \"categories\": [{\"alias\": \"pizza\", \"title\": \"Pizza\"}], \"rating\": 3.5, \"coordinates\": {\"latitude\": 40.70257, \"longitude\": -73.99323}, \"transactions\": [], \"price\": \"$$\", \"location\": {\"address1\": \"1 Front St\", \"address2\": \"\", \"address3\": \"\", \"city\": \"Brooklyn\", \"zip_code\": \"11201\", \"country\": \"US\", \"state\": \"NY\", \"display_address\": [\"1 Front St\", \"Brooklyn, NY 11201\"]}, \"phone\": \"+17188584300\", \"display_phone\": \"(718) 858-4300\", \"distance\": 327.45636528596714}, {\"id\": \"XLks2jXfslR0SzqFlUa6rw\", \"alias\": \"best-pizza-shop-astoria\", \"name\": \"Best Pizza Shop\", \"image_url\": \"https://s3-media3.fl.yelpcdn.com/bphoto/nwvuqgPt-blJd1aSjVIk3g/o.jpg\", \"is_closed\": false, \"url\": \"https://www.yelp.com/biz/best-pizza-shop-astoria?adjust_creative=ih1nQ2GnSmI0pQMGcg_D0g&utm_campaign=yelp_api_v3&utm_medium=api_v3_business_search&utm_source=ih1nQ2GnSmI0pQMGcg_D0g\", \"review_count\": 17, \"categories\": [{\"alias\": \"pizza\", \"title\": \"Pizza\"}], \"rating\": 4.0, \"coordinates\": {\"latitude\": 40.7589, \"longitude\": -73.92601}, \"transactions\": [\"pickup\", \"delivery\"], \"location\": {\"address1\": \"32-20 34th Ave\", \"address2\": \"\", \"address3\": null, \"city\": \"Astoria\", \"zip_code\": \"11106\", \"country\": \"US\", \"state\": \"NY\", \"display_address\": [\"32-20 34th Ave\", \"Astoria, NY 11106\"]}, \"phone\": \"\", \"display_phone\": \"\", \"distance\": 8281.481284236419}, {\"id\": \"C8j0q4Ma_S5hBGuAI-aaww\", \"alias\": \"di-fara-pizza-brooklyn\", \"name\": \"Di Fara Pizza\", \"image_url\": \"https://s3-media4.fl.yelpcdn.com/bphoto/Ga-HenQEAW_xd1gCX5IYfw/o.jpg\", \"is_closed\": false, \"url\": \"https://www.yelp.com/biz/di-fara-pizza-brooklyn?adjust_creative=ih1nQ2GnSmI0pQMGcg_D0g&utm_campaign=yelp_api_v3&utm_medium=api_v3_business_search&utm_source=ih1nQ2GnSmI0pQMGcg_D0g\", \"review_count\": 3272, \"categories\": [{\"alias\": \"pizza\", \"title\": \"Pizza\"}], \"rating\": 4.0, \"coordinates\": {\"latitude\": 40.625093, \"longitude\": -73.961531}, \"transactions\": [\"pickup\", \"delivery\"], \"price\": \"$$\", \"location\": {\"address1\": \"1424 Ave J\", \"address2\": \"\", \"address3\": \"\", \"city\": \"Brooklyn\", \"zip_code\": \"11230\", \"country\": \"US\", \"state\": \"NY\", \"display_address\": [\"1424 Ave J\", \"Brooklyn, NY 11230\"]}, \"phone\": \"+17182581367\", \"display_phone\": \"(718) 258-1367\", \"distance\": 9352.269072867253}, {\"id\": \"uc5qQMzs96rzjK27epDCug\", \"alias\": \"joes-pizza-new-york-4\", \"name\": \"Joe\\'s Pizza\", \"image_url\": \"https://s3-media2.fl.yelpcdn.com/bphoto/FhbFkrh_3TrAOZvoWTyOJA/o.jpg\", \"is_closed\": false, \"url\": \"https://www.yelp.com/biz/joes-pizza-new-york-4?adjust_creative=ih1nQ2GnSmI0pQMGcg_D0g&utm_campaign=yelp_api_v3&utm_medium=api_v3_business_search&utm_source=ih1nQ2GnSmI0pQMGcg_D0g\", \"review_count\": 2295, \"categories\": [{\"alias\": \"pizza\", \"title\": \"Pizza\"}], \"rating\": 4.0, \"coordinates\": {\"latitude\": 40.7305599, \"longitude\": -74.0021299}, \"transactions\": [], \"price\": \"$\", \"location\": {\"address1\": \"7 Carmine St\", \"address2\": \"\", \"address3\": \"\", \"city\": \"New York\", \"zip_code\": \"10014\", \"country\": \"US\", \"state\": \"NY\", \"display_address\": [\"7 Carmine St\", \"New York, NY 10014\"]}, \"phone\": \"+12123661182\", \"display_phone\": \"(212) 366-1182\", \"distance\": 2873.5532231399425}, {\"id\": \"xxgcU_oFIox_pAmroo9WwA\", \"alias\": \"front-street-pizza-brooklyn\", \"name\": \"Front Street Pizza\", \"image_url\": \"https://s3-media1.fl.yelpcdn.com/bphoto/3gefrnHNBSjOoa3PKvag9w/o.jpg\", \"is_closed\": false, \"url\": \"https://www.yelp.com/biz/front-street-pizza-brooklyn?adjust_creative=ih1nQ2GnSmI0pQMGcg_D0g&utm_campaign=yelp_api_v3&utm_medium=api_v3_business_search&utm_source=ih1nQ2GnSmI0pQMGcg_D0g\", \"review_count\": 309, \"categories\": [{\"alias\": \"pizza\", \"title\": \"Pizza\"}, {\"alias\": \"bars\", \"title\": \"Bars\"}, {\"alias\": \"italian\", \"title\": \"Italian\"}], \"rating\": 4.0, \"coordinates\": {\"latitude\": 40.70244, \"longitude\": -73.98943}, \"transactions\": [\"pickup\", \"delivery\"], \"price\": \"$\", \"location\": {\"address1\": \"80 Front St\", \"address2\": \"\", \"address3\": \"\", \"city\": \"Brooklyn\", \"zip_code\": \"11201\", \"country\": \"US\", \"state\": \"NY\", \"display_address\": [\"80 Front St\", \"Brooklyn, NY 11201\"]}, \"phone\": \"+17188753700\", \"display_phone\": \"(718) 875-3700\", \"distance\": 550.4392264831844}, {\"id\": \"RqRCx09k0PZ4sZJgOxbAIA\", \"alias\": \"dough-vale-new-york\", \"name\": \"Dough Vale\", \"image_url\": \"https://s3-media3.fl.yelpcdn.com/bphoto/fw1S1VHq1OLOeMj4pNBLNw/o.jpg\", \"is_closed\": false, \"url\": \"https://www.yelp.com/biz/dough-vale-new-york?adjust_creative=ih1nQ2GnSmI0pQMGcg_D0g&utm_campaign=yelp_api_v3&utm_medium=api_v3_business_search&utm_source=ih1nQ2GnSmI0pQMGcg_D0g\", \"review_count\": 11, \"categories\": [{\"alias\": \"pizza\", \"title\": \"Pizza\"}, {\"alias\": \"italian\", \"title\": \"Italian\"}], \"rating\": 5.0, \"coordinates\": {\"latitude\": 40.70933, \"longitude\": -73.95407}, \"transactions\": [\"restaurant_reservation\", \"pickup\", \"delivery\"], \"location\": {\"address1\": \"330 S 3rd St\", \"address2\": null, \"address3\": \"\", \"city\": \"New York\", \"zip_code\": \"11211\", \"country\": \"US\", \"state\": \"NY\", \"display_address\": [\"330 S 3rd St\", \"New York, NY 11211\"]}, \"phone\": \"+13478897400\", \"display_phone\": \"(347) 889-7400\", \"distance\": 3409.9406868873884}, {\"id\": \"yH6t1JWcwkdWG4CS5KPvow\", \"alias\": \"adriennes-pizzabar-new-york\", \"name\": \"Adrienne\\'s Pizzabar\", \"image_url\": \"https://s3-media4.fl.yelpcdn.com/bphoto/MOG8wpqkeYQxDslq7ospLw/o.jpg\", \"is_closed\": false, \"url\": \"https://www.yelp.com/biz/adriennes-pizzabar-new-york?adjust_creative=ih1nQ2GnSmI0pQMGcg_D0g&utm_campaign=yelp_api_v3&utm_medium=api_v3_business_search&utm_source=ih1nQ2GnSmI0pQMGcg_D0g\", \"review_count\": 1561, \"categories\": [{\"alias\": \"pizza\", \"title\": \"Pizza\"}, {\"alias\": \"italian\", \"title\": \"Italian\"}, {\"alias\": \"beerbar\", \"title\": \"Beer Bar\"}], \"rating\": 4.0, \"coordinates\": {\"latitude\": 40.7043362, \"longitude\": -74.0101733}, \"transactions\": [\"pickup\", \"delivery\"], \"price\": \"$$\", \"location\": {\"address1\": \"54 Stone St\", \"address2\": null, \"address3\": \"\", \"city\": \"New York\", \"zip_code\": \"10004\", \"country\": \"US\", \"state\": \"NY\", \"display_address\": [\"54 Stone St\", \"New York, NY 10004\"]}, \"phone\": \"+12122483838\", \"display_phone\": \"(212) 248-3838\", \"distance\": 1344.2671600758972}, {\"id\": \"oJ_XSPZFpvIt6rvheSQl7A\", \"alias\": \"bleecker-street-pizza-new-york\", \"name\": \"Bleecker Street Pizza\", \"image_url\": \"https://s3-media4.fl.yelpcdn.com/bphoto/Kyi2tP43S_a6s-zXD38NUQ/o.jpg\", \"is_closed\": false, \"url\": \"https://www.yelp.com/biz/bleecker-street-pizza-new-york?adjust_creative=ih1nQ2GnSmI0pQMGcg_D0g&utm_campaign=yelp_api_v3&utm_medium=api_v3_business_search&utm_source=ih1nQ2GnSmI0pQMGcg_D0g\", \"review_count\": 2106, \"categories\": [{\"alias\": \"pizza\", \"title\": \"Pizza\"}, {\"alias\": \"italian\", \"title\": \"Italian\"}], \"rating\": 4.0, \"coordinates\": {\"latitude\": 40.7320627016512, \"longitude\": -74.0036552270137}, \"transactions\": [\"pickup\", \"delivery\"], \"price\": \"$\", \"location\": {\"address1\": \"69 7th Ave S\", \"address2\": null, \"address3\": \"\", \"city\": \"New York\", \"zip_code\": \"10014\", \"country\": \"US\", \"state\": \"NY\", \"display_address\": [\"69 7th Ave S\", \"New York, NY 10014\"]}, \"phone\": \"+12129244466\", \"display_phone\": \"(212) 924-4466\", \"distance\": 3072.9540450669765}, {\"id\": \"LF1QAuvpfX7KGQlg2zMg6Q\", \"alias\": \"johns-of-bleecker-street-new-york-2\", \"name\": \"John\\'s of Bleecker Street\", \"image_url\": \"https://s3-media1.fl.yelpcdn.com/bphoto/ey_5ReYpouWm4SlY2DsaVQ/o.jpg\", \"is_closed\": false, \"url\": \"https://www.yelp.com/biz/johns-of-bleecker-street-new-york-2?adjust_creative=ih1nQ2GnSmI0pQMGcg_D0g&utm_campaign=yelp_api_v3&utm_medium=api_v3_business_search&utm_source=ih1nQ2GnSmI0pQMGcg_D0g\", \"review_count\": 1835, \"categories\": [{\"alias\": \"pizza\", \"title\": \"Pizza\"}], \"rating\": 4.0, \"coordinates\": {\"latitude\": 40.73158, \"longitude\": -74.00332}, \"transactions\": [\"pickup\", \"delivery\"], \"price\": \"$$\", \"location\": {\"address1\": \"278 Bleecker St\", \"address2\": \"\", \"address3\": \"\", \"city\": \"New York\", \"zip_code\": \"10014\", \"country\": \"US\", \"state\": \"NY\", \"display_address\": [\"278 Bleecker St\", \"New York, NY 10014\"]}, \"phone\": \"+12122431680\", \"display_phone\": \"(212) 243-1680\", \"distance\": 3010.899021476809}, {\"id\": \"Aazjxg21VH2cncWYBAv68Q\", \"alias\": \"sottocasa-pizzeria-brooklyn-3\", \"name\": \"Sottocasa Pizzeria\", \"image_url\": \"https://s3-media2.fl.yelpcdn.com/bphoto/MbBAMb3kb1VXtF9M5ptazA/o.jpg\", \"is_closed\": false, \"url\": \"https://www.yelp.com/biz/sottocasa-pizzeria-brooklyn-3?adjust_creative=ih1nQ2GnSmI0pQMGcg_D0g&utm_campaign=yelp_api_v3&utm_medium=api_v3_business_search&utm_source=ih1nQ2GnSmI0pQMGcg_D0g\", \"review_count\": 594, \"categories\": [{\"alias\": \"pizza\", \"title\": \"Pizza\"}, {\"alias\": \"italian\", \"title\": \"Italian\"}], \"rating\": 4.5, \"coordinates\": {\"latitude\": 40.688285, \"longitude\": -73.989006}, \"transactions\": [\"delivery\"], \"price\": \"$$\", \"location\": {\"address1\": \"298 Atlantic Ave\", \"address2\": null, \"address3\": \"\", \"city\": \"Brooklyn\", \"zip_code\": \"11201\", \"country\": \"US\", \"state\": \"NY\", \"display_address\": [\"298 Atlantic Ave\", \"Brooklyn, NY 11201\"]}, \"phone\": \"+17188528758\", \"display_phone\": \"(718) 852-8758\", \"distance\": 1959.7870021684514}, {\"id\": \"i_rg-OLXQbpRUN7O3MeCeA\", \"alias\": \"piz-zetta-brooklyn-2\", \"name\": \"Piz-zetta\", \"image_url\": \"https://s3-media2.fl.yelpcdn.com/bphoto/9L4viDwAGx3obgYLnXMA6g/o.jpg\", \"is_closed\": false, \"url\": \"https://www.yelp.com/biz/piz-zetta-brooklyn-2?adjust_creative=ih1nQ2GnSmI0pQMGcg_D0g&utm_campaign=yelp_api_v3&utm_medium=api_v3_business_search&utm_source=ih1nQ2GnSmI0pQMGcg_D0g\", \"review_count\": 254, \"categories\": [{\"alias\": \"italian\", \"title\": \"Italian\"}, {\"alias\": \"pizza\", \"title\": \"Pizza\"}], \"rating\": 4.5, \"coordinates\": {\"latitude\": 40.6912834070746, \"longitude\": -73.9906029201042}, \"transactions\": [\"pickup\", \"delivery\"], \"price\": \"$\", \"location\": {\"address1\": \"90 Livingston St\", \"address2\": \"\", \"address3\": \"\", \"city\": \"Brooklyn\", \"zip_code\": \"11201\", \"country\": \"US\", \"state\": \"NY\", \"display_address\": [\"90 Livingston St\", \"Brooklyn, NY 11201\"]}, \"phone\": \"+17184227878\", \"display_phone\": \"(718) 422-7878\", \"distance\": 1605.1176697811002}, {\"id\": \"FhXjAc6nKLf414KxYujUHw\", \"alias\": \"robertas-brooklyn-2\", \"name\": \"Roberta\\'s\", \"image_url\": \"https://s3-media4.fl.yelpcdn.com/bphoto/xRNPKIfF2Gr02zBiBl3dSA/o.jpg\", \"is_closed\": false, \"url\": \"https://www.yelp.com/biz/robertas-brooklyn-2?adjust_creative=ih1nQ2GnSmI0pQMGcg_D0g&utm_campaign=yelp_api_v3&utm_medium=api_v3_business_search&utm_source=ih1nQ2GnSmI0pQMGcg_D0g\", \"review_count\": 2682, \"categories\": [{\"alias\": \"pizza\", \"title\": \"Pizza\"}, {\"alias\": \"italian\", \"title\": \"Italian\"}], \"rating\": 4.0, \"coordinates\": {\"latitude\": 40.705043534338, \"longitude\": -73.93357123374}, \"transactions\": [\"pickup\", \"delivery\"], \"price\": \"$$\", \"location\": {\"address1\": \"261 Moore St\", \"address2\": \"\", \"address3\": \"\", \"city\": \"Brooklyn\", \"zip_code\": \"11206\", \"country\": \"US\", \"state\": \"NY\", \"display_address\": [\"261 Moore St\", \"Brooklyn, NY 11206\"]}, \"phone\": \"+17184171118\", \"display_phone\": \"(718) 417-1118\", \"distance\": 5118.690592147886}, {\"id\": \"WG639VkTjmK5dzydd1BBJA\", \"alias\": \"rubirosa-new-york-2\", \"name\": \"Rubirosa\", \"image_url\": \"https://s3-media4.fl.yelpcdn.com/bphoto/LuSzR8cpVQRofXOT_bMi1A/o.jpg\", \"is_closed\": false, \"url\": \"https://www.yelp.com/biz/rubirosa-new-york-2?adjust_creative=ih1nQ2GnSmI0pQMGcg_D0g&utm_campaign=yelp_api_v3&utm_medium=api_v3_business_search&utm_source=ih1nQ2GnSmI0pQMGcg_D0g\", \"review_count\": 1931, \"categories\": [{\"alias\": \"italian\", \"title\": \"Italian\"}, {\"alias\": \"pizza\", \"title\": \"Pizza\"}], \"rating\": 4.5, \"coordinates\": {\"latitude\": 40.72275, \"longitude\": -73.99622}, \"transactions\": [], \"price\": \"$$\", \"location\": {\"address1\": \"235 Mulberry St\", \"address2\": \"\", \"address3\": \"\", \"city\": \"New York\", \"zip_code\": \"10012\", \"country\": \"US\", \"state\": \"NY\", \"display_address\": [\"235 Mulberry St\", \"New York, NY 10012\"]}, \"phone\": \"+12129650500\", \"display_phone\": \"(212) 965-0500\", \"distance\": 1931.2683716470422}, {\"id\": \"BgGz5IdV53bGb4o7opR5zg\", \"alias\": \"arturos-new-york\", \"name\": \"Arturo\\'s\", \"image_url\": \"https://s3-media2.fl.yelpcdn.com/bphoto/eqnPbjFCduD4_v8CIg4EnQ/o.jpg\", \"is_closed\": false, \"url\": \"https://www.yelp.com/biz/arturos-new-york?adjust_creative=ih1nQ2GnSmI0pQMGcg_D0g&utm_campaign=yelp_api_v3&utm_medium=api_v3_business_search&utm_source=ih1nQ2GnSmI0pQMGcg_D0g\", \"review_count\": 644, \"categories\": [{\"alias\": \"pizza\", \"title\": \"Pizza\"}, {\"alias\": \"italian\", \"title\": \"Italian\"}], \"rating\": 4.0, \"coordinates\": {\"latitude\": 40.7273563342024, \"longitude\": -74.0004944801331}, \"transactions\": [\"restaurant_reservation\"], \"price\": \"$$\", \"location\": {\"address1\": \"106 W Houston St\", \"address2\": \"\", \"address3\": \"\", \"city\": \"New York\", \"zip_code\": \"10012\", \"country\": \"US\", \"state\": \"NY\", \"display_address\": [\"106 W Houston St\", \"New York, NY 10012\"]}, \"phone\": \"+12126773820\", \"display_phone\": \"(212) 677-3820\", \"distance\": 2491.867165709998}, {\"id\": \"S4uozcDEieoaXxIJ6TsUoQ\", \"alias\": \"dellaroccos-brooklyn-3\", \"name\": \"Dellarocco\\'s\", \"image_url\": \"https://s3-media3.fl.yelpcdn.com/bphoto/v3zVHJKbR6Brqjw56hoqpg/o.jpg\", \"is_closed\": false, \"url\": \"https://www.yelp.com/biz/dellaroccos-brooklyn-3?adjust_creative=ih1nQ2GnSmI0pQMGcg_D0g&utm_campaign=yelp_api_v3&utm_medium=api_v3_business_search&utm_source=ih1nQ2GnSmI0pQMGcg_D0g\", \"review_count\": 243, \"categories\": [{\"alias\": \"pizza\", \"title\": \"Pizza\"}, {\"alias\": \"italian\", \"title\": \"Italian\"}, {\"alias\": \"beerbar\", \"title\": \"Beer Bar\"}], \"rating\": 4.0, \"coordinates\": {\"latitude\": 40.6950309, \"longitude\": -73.9961252}, \"transactions\": [], \"price\": \"$$\", \"location\": {\"address1\": \"214 Hicks St\", \"address2\": null, \"address3\": \"\", \"city\": \"Brooklyn\", \"zip_code\": \"11201\", \"country\": \"US\", \"state\": \"NY\", \"display_address\": [\"214 Hicks St\", \"Brooklyn, NY 11201\"]}, \"phone\": \"+17188581010\", \"display_phone\": \"(718) 858-1010\", \"distance\": 1170.2700329972115}], \"total\": 10800, \"region\": {\"center\": {\"longitude\": -73.99429321289062, \"latitude\": 40.70544486444615}}}'"
      ]
     },
     "execution_count": 2,
     "metadata": {},
     "output_type": "execute_result"
    }
   ],
   "source": [
    "response.content"
   ]
  },
  {
   "cell_type": "markdown",
   "metadata": {},
   "source": [
    "## Pagination\n",
    "\n",
    "Now that you have an initial response, you can examine the contents of the json container. For example, you might start with ```response.json().keys()```. Here, you'll see a key for `'total'`, which tells you the full number of matching results given your query parameters. Write a loop (or ideally a function) which then makes successive API calls using the offset parameter to retrieve all of the results (or 5000 for a particularly large result set) for the original query. As you do this, be mindful of how you store the data. Your final goal will be to reformat the data concerning the businesses themselves into a pandas DataFrame from the json objects.\n",
    "\n",
    "**Note: be mindful of the API rate limits. You can only make 5000 requests per day, and are also can make requests too fast. Start prototyping small before running a loop that could be faulty. You can also use time.sleep(n) to add delays. For more details see https://www.yelp.com/developers/documentation/v3/rate_limiting.**"
   ]
  },
  {
   "cell_type": "code",
   "execution_count": 3,
   "metadata": {},
   "outputs": [
    {
     "data": {
      "text/plain": [
       "dict_keys(['businesses', 'total', 'region'])"
      ]
     },
     "execution_count": 3,
     "metadata": {},
     "output_type": "execute_result"
    }
   ],
   "source": [
    "# Your code here; use a function or loop to retrieve all the results from your original request\n",
    "response.json().keys()"
   ]
  },
  {
   "cell_type": "code",
   "execution_count": 4,
   "metadata": {},
   "outputs": [],
   "source": [
    "p = response.json()"
   ]
  },
  {
   "cell_type": "code",
   "execution_count": 6,
   "metadata": {},
   "outputs": [
    {
     "data": {
      "text/plain": [
       "20"
      ]
     },
     "execution_count": 6,
     "metadata": {},
     "output_type": "execute_result"
    }
   ],
   "source": [
    "len(p['businesses'])"
   ]
  },
  {
   "cell_type": "markdown",
   "metadata": {},
   "source": [
    "## Exploratory Analysis\n",
    "\n",
    "Take the restaurants from the previous question and do an initial exploratory analysis. At minimum, this should include looking at the distribution of features such as price, rating and number of reviews as well as the relations between these dimensions."
   ]
  },
  {
   "cell_type": "code",
   "execution_count": null,
   "metadata": {},
   "outputs": [],
   "source": [
    "#Your code here"
   ]
  },
  {
   "cell_type": "markdown",
   "metadata": {},
   "source": [
    "## Mapping\n",
    "\n",
    "Look at the initial Yelp example and try and make a map using Folium of the restaurants you retrieved. Be sure to also add popups to the markers giving some basic information such as name, rating and price."
   ]
  },
  {
   "cell_type": "code",
   "execution_count": null,
   "metadata": {},
   "outputs": [],
   "source": [
    "#Your code here"
   ]
  },
  {
   "cell_type": "markdown",
   "metadata": {},
   "source": [
    "## Summary\n",
    "\n",
    "Nice work! In this lab, you synthesized your skills for the day, making multiple API calls to Yelp in order to paginate through a results set, performing some basic exploratory analysis and then creating a nice map visual to display the results! Well done!"
   ]
  }
 ],
 "metadata": {
  "kernelspec": {
   "display_name": "Python 3",
   "language": "python",
   "name": "python3"
  },
  "language_info": {
   "codemirror_mode": {
    "name": "ipython",
    "version": 3
   },
   "file_extension": ".py",
   "mimetype": "text/x-python",
   "name": "python",
   "nbconvert_exporter": "python",
   "pygments_lexer": "ipython3",
   "version": "3.6.6"
  }
 },
 "nbformat": 4,
 "nbformat_minor": 2
}
